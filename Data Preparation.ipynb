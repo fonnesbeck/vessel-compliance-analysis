{
 "metadata": {
  "name": "Data Preparation"
 },
 "nbformat": 3,
 "nbformat_minor": 0,
 "worksheets": [
  {
   "cells": [
    {
     "cell_type": "code",
     "collapsed": false,
     "input": [
      "import pandas as pd\n",
      "import numpy as np\n",
      "import time, datetime\n",
      "from matplotlib import dates\n",
      "\n",
      "pd.set_option(\"display.max_columns\", 25) \n",
      "pd.set_option(\"display.max_colwidth\", 100)"
     ],
     "language": "python",
     "metadata": {},
     "outputs": [],
     "prompt_number": 26
    },
    {
     "cell_type": "markdown",
     "metadata": {},
     "source": [
      "Import actions, converting dates to `datetime` objects."
     ]
    },
    {
     "cell_type": "code",
     "collapsed": false,
     "input": [
      "actions = pd.read_csv(\"fonnesbeck_20130313/management_actions.csv\")\n",
      "actions.head()"
     ],
     "language": "python",
     "metadata": {},
     "outputs": [
      {
       "html": [
        "<div style=\"max-height:1000px;max-width:1500px;overflow:auto;\">\n",
        "<table border=\"1\" class=\"dataframe\">\n",
        "  <thead>\n",
        "    <tr style=\"text-align: right;\">\n",
        "      <th></th>\n",
        "      <th>mmsi</th>\n",
        "      <th>name</th>\n",
        "      <th>action</th>\n",
        "      <th>date</th>\n",
        "    </tr>\n",
        "  </thead>\n",
        "  <tbody>\n",
        "    <tr>\n",
        "      <th>0</th>\n",
        "      <td> 308069000</td>\n",
        "      <td> CSL Spirit</td>\n",
        "      <td> Stellwagen Outreach</td>\n",
        "      <td> 1297141200</td>\n",
        "    </tr>\n",
        "    <tr>\n",
        "      <th>1</th>\n",
        "      <td> 308294000</td>\n",
        "      <td>  CSL Atlas</td>\n",
        "      <td> Stellwagen Outreach</td>\n",
        "      <td> 1297141200</td>\n",
        "    </tr>\n",
        "    <tr>\n",
        "      <th>2</th>\n",
        "      <td> 308294000</td>\n",
        "      <td>  CSL Atlas</td>\n",
        "      <td> Stellwagen Outreach</td>\n",
        "      <td> 1329282000</td>\n",
        "    </tr>\n",
        "    <tr>\n",
        "      <th>3</th>\n",
        "      <td> 308299000</td>\n",
        "      <td> CSL ARGOSY</td>\n",
        "      <td> Stellwagen Outreach</td>\n",
        "      <td> 1280725200</td>\n",
        "    </tr>\n",
        "    <tr>\n",
        "      <th>4</th>\n",
        "      <td> 308371000</td>\n",
        "      <td>     LARVIK</td>\n",
        "      <td> Stellwagen Outreach</td>\n",
        "      <td> 1280725200</td>\n",
        "    </tr>\n",
        "  </tbody>\n",
        "</table>\n",
        "</div>"
       ],
       "metadata": {},
       "output_type": "pyout",
       "prompt_number": 2,
       "text": [
        "        mmsi        name               action        date\n",
        "0  308069000  CSL Spirit  Stellwagen Outreach  1297141200\n",
        "1  308294000   CSL Atlas  Stellwagen Outreach  1297141200\n",
        "2  308294000   CSL Atlas  Stellwagen Outreach  1329282000\n",
        "3  308299000  CSL ARGOSY  Stellwagen Outreach  1280725200\n",
        "4  308371000      LARVIK  Stellwagen Outreach  1280725200"
       ]
      }
     ],
     "prompt_number": 2
    },
    {
     "cell_type": "code",
     "collapsed": false,
     "input": [
      "actions.date = map(datetime.datetime.fromtimestamp, actions.date)"
     ],
     "language": "python",
     "metadata": {},
     "outputs": [],
     "prompt_number": 3
    },
    {
     "cell_type": "markdown",
     "metadata": {},
     "source": [
      "Unique enforcement actions:"
     ]
    },
    {
     "cell_type": "code",
     "collapsed": false,
     "input": [
      "actions.action.unique()"
     ],
     "language": "python",
     "metadata": {},
     "outputs": [
      {
       "metadata": {},
       "output_type": "pyout",
       "prompt_number": 7,
       "text": [
        "array(['Stellwagen Outreach', 'COPPS', 'Monthly Summary (CSA)', 'NOVA',\n",
        "       'USCG', 'Monthly Summary (WSC)'], dtype=object)"
       ]
      }
     ],
     "prompt_number": 7
    },
    {
     "cell_type": "markdown",
     "metadata": {},
     "source": [
      "Convert names to caps to disambiguate:"
     ]
    },
    {
     "cell_type": "code",
     "collapsed": false,
     "input": [
      "actions.name = actions.name.map(str.upper)"
     ],
     "language": "python",
     "metadata": {},
     "outputs": [],
     "prompt_number": 8
    },
    {
     "cell_type": "code",
     "collapsed": false,
     "input": [
      "actions.head()"
     ],
     "language": "python",
     "metadata": {},
     "outputs": [
      {
       "html": [
        "<div style=\"max-height:1000px;max-width:1500px;overflow:auto;\">\n",
        "<table border=\"1\" class=\"dataframe\">\n",
        "  <thead>\n",
        "    <tr style=\"text-align: right;\">\n",
        "      <th></th>\n",
        "      <th>mmsi</th>\n",
        "      <th>name</th>\n",
        "      <th>action</th>\n",
        "      <th>date</th>\n",
        "    </tr>\n",
        "  </thead>\n",
        "  <tbody>\n",
        "    <tr>\n",
        "      <th>0</th>\n",
        "      <td> 308069000</td>\n",
        "      <td> CSL SPIRIT</td>\n",
        "      <td> Stellwagen Outreach</td>\n",
        "      <td>2011-02-07 23:00:00</td>\n",
        "    </tr>\n",
        "    <tr>\n",
        "      <th>1</th>\n",
        "      <td> 308294000</td>\n",
        "      <td>  CSL ATLAS</td>\n",
        "      <td> Stellwagen Outreach</td>\n",
        "      <td>2011-02-07 23:00:00</td>\n",
        "    </tr>\n",
        "    <tr>\n",
        "      <th>2</th>\n",
        "      <td> 308294000</td>\n",
        "      <td>  CSL ATLAS</td>\n",
        "      <td> Stellwagen Outreach</td>\n",
        "      <td>2012-02-14 23:00:00</td>\n",
        "    </tr>\n",
        "    <tr>\n",
        "      <th>3</th>\n",
        "      <td> 308299000</td>\n",
        "      <td> CSL ARGOSY</td>\n",
        "      <td> Stellwagen Outreach</td>\n",
        "      <td>2010-08-02 00:00:00</td>\n",
        "    </tr>\n",
        "    <tr>\n",
        "      <th>4</th>\n",
        "      <td> 308371000</td>\n",
        "      <td>     LARVIK</td>\n",
        "      <td> Stellwagen Outreach</td>\n",
        "      <td>2010-08-02 00:00:00</td>\n",
        "    </tr>\n",
        "  </tbody>\n",
        "</table>\n",
        "</div>"
       ],
       "metadata": {},
       "output_type": "pyout",
       "prompt_number": 9,
       "text": [
        "        mmsi        name               action                date\n",
        "0  308069000  CSL SPIRIT  Stellwagen Outreach 2011-02-07 23:00:00\n",
        "1  308294000   CSL ATLAS  Stellwagen Outreach 2011-02-07 23:00:00\n",
        "2  308294000   CSL ATLAS  Stellwagen Outreach 2012-02-14 23:00:00\n",
        "3  308299000  CSL ARGOSY  Stellwagen Outreach 2010-08-02 00:00:00\n",
        "4  308371000      LARVIK  Stellwagen Outreach 2010-08-02 00:00:00"
       ]
      }
     ],
     "prompt_number": 9
    },
    {
     "cell_type": "markdown",
     "metadata": {},
     "source": [
      "Import vessel information, using `nmsi` as unique identifier."
     ]
    },
    {
     "cell_type": "code",
     "collapsed": false,
     "input": [
      "vessels = pd.read_csv(\"fonnesbeck_20130313/vessel_information.csv\", index_col='mmsi')\n",
      "vessels.head()"
     ],
     "language": "python",
     "metadata": {},
     "outputs": [
      {
       "html": [
        "<pre>\n",
        "&lt;class 'pandas.core.frame.DataFrame'&gt;\n",
        "Int64Index: 5 entries, 1 to 103\n",
        "Data columns (total 10 columns):\n",
        "num_names    5  non-null values\n",
        "names        5  non-null values\n",
        "sov          5  non-null values\n",
        "flag         5  non-null values\n",
        "flag_type    5  non-null values\n",
        "num_loas     5  non-null values\n",
        "loa          5  non-null values\n",
        "max_loa      5  non-null values\n",
        "num_types    5  non-null values\n",
        "type         5  non-null values\n",
        "dtypes: float64(1), int64(3), object(6)\n",
        "</pre>"
       ],
       "metadata": {},
       "output_type": "pyout",
       "prompt_number": 10,
       "text": [
        "      num_names                                              names sov  \\\n",
        "mmsi                                                                     \n",
        "1             8  Bil Holman Dredge/Dredge Capt Frank/Emo/Offsho...   Y   \n",
        "9             3                         000000009/Raven/Shearwater   N   \n",
        "21            1                                      Us Gov Vessel   Y   \n",
        "74            2                                  Mcfaul/Sarah Bell   N   \n",
        "103           3           Ron G/Us Navy Warship 103/Us Warship 103   Y   \n",
        "\n",
        "         flag flag_type  num_loas                                    loa  \\\n",
        "mmsi                                                                       \n",
        "1     Unknown   Unknown         7  42.0/48.0/57.0/90.0/138.0/154.0/156.0   \n",
        "9     Unknown   Unknown         2                              50.0/62.0   \n",
        "21    Unknown   Unknown         1                                  208.0   \n",
        "74    Unknown   Unknown         1                                  155.0   \n",
        "103   Unknown   Unknown         2                             26.0/155.0   \n",
        "\n",
        "      max_loa  num_types                             type  \n",
        "mmsi                                                       \n",
        "1         156          4  Dredging/MilOps/Reserved/Towing  \n",
        "9          62          2                     Pleasure/Tug  \n",
        "21        208          1                          Unknown  \n",
        "74        155          1                          Unknown  \n",
        "103       155          2                   Tanker/Unknown  "
       ]
      }
     ],
     "prompt_number": 10
    },
    {
     "cell_type": "code",
     "collapsed": false,
     "input": [
      "vessels.num_names.max()"
     ],
     "language": "python",
     "metadata": {},
     "outputs": [
      {
       "metadata": {},
       "output_type": "pyout",
       "prompt_number": 11,
       "text": [
        "168"
       ]
      }
     ],
     "prompt_number": 11
    },
    {
     "cell_type": "code",
     "collapsed": false,
     "input": [
      "[v for v in vessels.type.unique() if v.find('/')==-1]"
     ],
     "language": "python",
     "metadata": {},
     "outputs": [
      {
       "metadata": {},
       "output_type": "pyout",
       "prompt_number": 12,
       "text": [
        "['Unknown',\n",
        " 'Other',\n",
        " 'Tug',\n",
        " 'Towing',\n",
        " 'Pleasure',\n",
        " 'Cargo',\n",
        " 'WIG',\n",
        " 'Fishing',\n",
        " 'BigTow',\n",
        " 'MilOps',\n",
        " 'Tanker',\n",
        " 'Passenger',\n",
        " 'SAR',\n",
        " 'Sailing',\n",
        " 'Reserved',\n",
        " 'Law',\n",
        " 'Dredging',\n",
        " 'AntiPol',\n",
        " 'Pilot',\n",
        " 'HSC',\n",
        " 'Diving',\n",
        " 'Resol-18',\n",
        " 'Tender',\n",
        " 'Spare',\n",
        " 'Medical']"
       ]
      }
     ],
     "prompt_number": 12
    },
    {
     "cell_type": "markdown",
     "metadata": {},
     "source": [
      "Filter out vessels with more than one name (unique identity):"
     ]
    },
    {
     "cell_type": "code",
     "collapsed": false,
     "input": [
      "vessels = vessels[vessels.num_names==1]"
     ],
     "language": "python",
     "metadata": {},
     "outputs": [],
     "prompt_number": 13
    },
    {
     "cell_type": "markdown",
     "metadata": {},
     "source": [
      "Merge all towing ships:"
     ]
    },
    {
     "cell_type": "code",
     "collapsed": false,
     "input": [
      "towing_types = ['Tug', 'Towing', 'BigTow', 'Towing/Tug', 'BigTow/Towing']\n",
      "vessels.type[[v in towing_types for v in vessels.type]] = 'All Tow'"
     ],
     "language": "python",
     "metadata": {},
     "outputs": [],
     "prompt_number": 14
    },
    {
     "cell_type": "markdown",
     "metadata": {},
     "source": [
      "Merge cargo types:"
     ]
    },
    {
     "cell_type": "code",
     "collapsed": false,
     "input": [
      "vessels.type[[v in ['Cargo/Other', 'Cargo/Unknown', 'Cargo/Reserved'] for v in vessels.type]] = 'Cargo'"
     ],
     "language": "python",
     "metadata": {},
     "outputs": [],
     "prompt_number": 15
    },
    {
     "cell_type": "markdown",
     "metadata": {},
     "source": [
      "Filter out unwanted vessel types:"
     ]
    },
    {
     "cell_type": "code",
     "collapsed": false,
     "input": [
      "valid_types = [\n",
      " 'Cargo',\n",
      " 'Fishing',\n",
      " 'Tanker',\n",
      " 'Passenger',\n",
      " 'All Tow',\n",
      " 'HSC',\n",
      " 'Other',\n",
      " 'Pleasure',\n",
      " 'Sailing',\n",
      " 'WIG']\n",
      "\n",
      "vessels = vessels[[v in valid_types for v in vessels.type]]"
     ],
     "language": "python",
     "metadata": {},
     "outputs": [],
     "prompt_number": 16
    },
    {
     "cell_type": "code",
     "collapsed": false,
     "input": [
      "vessels.type.value_counts()"
     ],
     "language": "python",
     "metadata": {},
     "outputs": [
      {
       "metadata": {},
       "output_type": "pyout",
       "prompt_number": 17,
       "text": [
        "Cargo        5346\n",
        "Tanker       2296\n",
        "Pleasure      497\n",
        "All Tow       385\n",
        "Sailing       180\n",
        "Other         168\n",
        "Passenger     139\n",
        "Fishing       130\n",
        "HSC            13\n",
        "WIG             6\n",
        "dtype: int64"
       ]
      }
     ],
     "prompt_number": 17
    },
    {
     "cell_type": "markdown",
     "metadata": {},
     "source": [
      "Import transit segment data"
     ]
    },
    {
     "cell_type": "code",
     "collapsed": false,
     "input": [
      "transit_segment = pd.read_csv(\"fonnesbeck_20130313/sma_transit_segments.csv\")\n",
      "transit_segment.head()"
     ],
     "language": "python",
     "metadata": {},
     "outputs": [
      {
       "html": [
        "<pre>\n",
        "&lt;class 'pandas.core.frame.DataFrame'&gt;\n",
        "Int64Index: 5 entries, 0 to 4\n",
        "Data columns (total 13 columns):\n",
        "mmsi          5  non-null values\n",
        "name          5  non-null values\n",
        "transit       5  non-null values\n",
        "segment       5  non-null values\n",
        "seg_length    5  non-null values\n",
        "sma           5  non-null values\n",
        "active        5  non-null values\n",
        "avg_sog       5  non-null values\n",
        "min_sog       5  non-null values\n",
        "max_sog       5  non-null values\n",
        "pdgt10        5  non-null values\n",
        "st_time       5  non-null values\n",
        "end_time      5  non-null values\n",
        "dtypes: float64(5), int64(4), object(4)\n",
        "</pre>"
       ],
       "metadata": {},
       "output_type": "pyout",
       "prompt_number": 18,
       "text": [
        "   mmsi               name  transit  segment  seg_length  sma  active  \\\n",
        "0     1        Us Govt Ves        1        1         5.1  NOR       1   \n",
        "1     1  Dredge Capt Frank        1        1        13.5  NOR       1   \n",
        "2     1      Us Gov Vessel        1        1         4.3  NOR       1   \n",
        "3     1      Us Gov Vessel        2        1         9.2  NOR       1   \n",
        "4     1  Dredge Capt Frank        2        1         9.2  NOR       1   \n",
        "\n",
        "   avg_sog  min_sog  max_sog  pdgt10              st_time             end_time  \n",
        "0     13.2      9.2     14.5    96.5  2009-02-10 16:03:56  2009-02-10 16:27:05  \n",
        "1     18.6     10.4     20.6   100.0  2009-04-06 14:31:27  2009-04-06 15:20:57  \n",
        "2     16.2     10.3     20.5   100.0  2009-04-06 14:36:27  2009-04-06 14:55:37  \n",
        "3     15.4     14.5     16.1   100.0  2009-04-10 17:58:03  2009-04-10 18:34:28  \n",
        "4     15.4     14.6     16.2   100.0  2009-04-10 17:59:03  2009-04-10 18:35:28  "
       ]
      }
     ],
     "prompt_number": 18
    },
    {
     "cell_type": "markdown",
     "metadata": {},
     "source": [
      "Distribution of `log(segment length)`:"
     ]
    },
    {
     "cell_type": "code",
     "collapsed": false,
     "input": [
      "transit_segment.seg_length.map(np.log).hist(bins=500)"
     ],
     "language": "python",
     "metadata": {},
     "outputs": [
      {
       "metadata": {},
       "output_type": "pyout",
       "prompt_number": 19,
       "text": [
        "<matplotlib.axes.AxesSubplot at 0x10c883050>"
       ]
      },
      {
       "metadata": {},
       "output_type": "display_data",
       "png": "[encoded data removed]",
       "text": [
        "<matplotlib.figure.Figure at 0x10c883850>"
       ]
      }
     ],
     "prompt_number": 19
    },
    {
     "cell_type": "code",
     "collapsed": false,
     "input": [
      "transit_segment.seg_length.describe()"
     ],
     "language": "python",
     "metadata": {},
     "outputs": [
      {
       "metadata": {},
       "output_type": "pyout",
       "prompt_number": 20,
       "text": [
        "count    262526.000000\n",
        "mean         25.471641\n",
        "std          30.935236\n",
        "min           1.000000\n",
        "25%          19.000000\n",
        "50%          21.800000\n",
        "75%          27.300000\n",
        "max        1882.000000\n",
        "dtype: float64"
       ]
      }
     ],
     "prompt_number": 20
    },
    {
     "cell_type": "markdown",
     "metadata": {},
     "source": [
      "Proportion of segments in active SMA:"
     ]
    },
    {
     "cell_type": "code",
     "collapsed": false,
     "input": [
      "transit_segment.active.mean()"
     ],
     "language": "python",
     "metadata": {},
     "outputs": [
      {
       "metadata": {},
       "output_type": "pyout",
       "prompt_number": 21,
       "text": [
        "0.41744055826851434"
       ]
      }
     ],
     "prompt_number": 21
    },
    {
     "cell_type": "markdown",
     "metadata": {},
     "source": [
      "List of unique Seasonal Management Areas:"
     ]
    },
    {
     "cell_type": "code",
     "collapsed": false,
     "input": [
      "transit_segment.sma.unique()"
     ],
     "language": "python",
     "metadata": {},
     "outputs": [
      {
       "metadata": {},
       "output_type": "pyout",
       "prompt_number": 22,
       "text": [
        "array(['NOR', 'MOR', 'NC_GA', 'SE', 'PHI', 'NY', 'CCB', 'BI', 'ORP', 'GSC'], dtype=object)"
       ]
      }
     ],
     "prompt_number": 22
    },
    {
     "cell_type": "markdown",
     "metadata": {},
     "source": [
      "Convert times to `datetime` objects:"
     ]
    },
    {
     "cell_type": "code",
     "collapsed": false,
     "input": [
      "transit_segment.st_time = pd.to_datetime(transit_segment.st_time)\n",
      "transit_segment.end_time = pd.to_datetime(transit_segment.end_time)"
     ],
     "language": "python",
     "metadata": {},
     "outputs": [],
     "prompt_number": 23
    },
    {
     "cell_type": "markdown",
     "metadata": {},
     "source": [
      "Merge vessels and transit segments by `mmsi`:"
     ]
    },
    {
     "cell_type": "code",
     "collapsed": false,
     "input": [
      "segments_merged = pd.merge(vessels, transit_segment, left_index=True, right_on='mmsi')"
     ],
     "language": "python",
     "metadata": {},
     "outputs": [],
     "prompt_number": 24
    },
    {
     "cell_type": "code",
     "collapsed": false,
     "input": [
      "segments_merged.head()"
     ],
     "language": "python",
     "metadata": {},
     "outputs": [
      {
       "html": [
        "<pre>\n",
        "&lt;class 'pandas.core.frame.DataFrame'&gt;\n",
        "Int64Index: 5 entries, 67 to 71\n",
        "Data columns (total 23 columns):\n",
        "num_names     5  non-null values\n",
        "names         5  non-null values\n",
        "sov           5  non-null values\n",
        "flag          5  non-null values\n",
        "flag_type     5  non-null values\n",
        "num_loas      5  non-null values\n",
        "loa           5  non-null values\n",
        "max_loa       5  non-null values\n",
        "num_types     5  non-null values\n",
        "type          5  non-null values\n",
        "mmsi          5  non-null values\n",
        "name          5  non-null values\n",
        "transit       5  non-null values\n",
        "segment       5  non-null values\n",
        "seg_length    5  non-null values\n",
        "sma           5  non-null values\n",
        "active        5  non-null values\n",
        "avg_sog       5  non-null values\n",
        "min_sog       5  non-null values\n",
        "max_sog       5  non-null values\n",
        "pdgt10        5  non-null values\n",
        "st_time       5  non-null values\n",
        "end_time      5  non-null values\n",
        "dtypes: datetime64[ns](2), float64(6), int64(7), object(8)\n",
        "</pre>"
       ],
       "metadata": {},
       "output_type": "pyout",
       "prompt_number": 27,
       "text": [
        "    num_names       names sov       flag flag_type  num_loas    loa  max_loa  \\\n",
        "67          1  Charleston   N  Anguilla    Foreign         1  160.0      160   \n",
        "68          1  Charleston   N  Anguilla    Foreign         1  160.0      160   \n",
        "69          1  Charleston   N  Anguilla    Foreign         1  160.0      160   \n",
        "70          1  Charleston   N  Anguilla    Foreign         1  160.0      160   \n",
        "71          1  Charleston   N  Anguilla    Foreign         1  160.0      160   \n",
        "\n",
        "    num_types   type  mmsi        name  transit  segment  seg_length    sma  \\\n",
        "67          1  Other  3011  Charleston        6        2         2.6  NC_GA   \n",
        "68          1  Other  3011  Charleston        6        3        47.9  NC_GA   \n",
        "69          1  Other  3011  Charleston        7        1        89.7  NC_GA   \n",
        "70          1  Other  3011  Charleston        8        1        31.3  NC_GA   \n",
        "71          1  Other  3011  Charleston        9        1        13.2  NC_GA   \n",
        "\n",
        "    active  avg_sog  min_sog  max_sog  pdgt10             st_time  \\\n",
        "67       0      0.3        0      4.0     0.0 2009-10-31 16:38:56   \n",
        "68       1      0.2        0      7.7     0.0 2009-11-01 04:00:25   \n",
        "69       1      0.3        0     33.6     0.1 2009-11-14 12:26:18   \n",
        "70       1      0.3        0      3.4     0.0 2009-12-04 13:23:46   \n",
        "71       1      0.4        0     20.8     5.0 2009-12-11 12:03:41   \n",
        "\n",
        "              end_time  \n",
        "67 2009-11-01 03:59:15  \n",
        "68 2009-11-11 04:34:39  \n",
        "69 2009-12-01 15:10:48  \n",
        "70 2009-12-08 20:42:43  \n",
        "71 2009-12-12 20:49:04  "
       ]
      }
     ],
     "prompt_number": 27
    },
    {
     "cell_type": "code",
     "collapsed": false,
     "input": [
      "segments_merged.to_csv(\"processed_data.csv\")"
     ],
     "language": "python",
     "metadata": {},
     "outputs": [],
     "prompt_number": 28
    }
   ],
   "metadata": {}
  }
 ]
}