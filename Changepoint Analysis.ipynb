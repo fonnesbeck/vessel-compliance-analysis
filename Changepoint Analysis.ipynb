{
 "metadata": {
  "name": ""
 },
 "nbformat": 3,
 "nbformat_minor": 0,
 "worksheets": [
  {
   "cells": [
    {
     "cell_type": "markdown",
     "metadata": {},
     "source": [
      "# Changepoint Analysis of PDGT10\n",
      "\n",
      "If a particular enforcement program has been effective in increasing compliance with vessel speed rules, we might expect to be able to detect a relatively discrete change in behavior that corresponds to the implementation of a particular program. Consider a single effective outreach program: A change-point model considers a time series of observed vessel speeds or compliance rates being subdivided into two periods, one before the program implementation and another after, with the mean compliance lower in the first period relative to the second, as a result of the program's effectiveness. We may not be able to anticipate exactly when during the time series that the population of vessels changed behavior, or perhaps even which program was effective (if any). As a result, the change-point model treats the location of the switch as unknown, and thus a variable in the model to be estimated. The estimation procedure uses the information contained in the observed vessel speeds or compliance rates to yield the most likely location of the change-point. If the estimated location is within some reasonable period following the implementation of a particular enforcement or notification program, it may be considered evidence in favor of that program's effectiveness.\n",
      "\n",
      "Specifically, we will model two means $\\mu_{pre}, \\mu_{post}$ (though this can be expanded to three or more, if we believe there are more changepoints) representing the mean of the metric for compliance before and after the changepoint. For now, we will assume that PDGT10 is the metric of choice. Since PDGT10 is a proportion, it is modeled on the $[0,1]$ interval, but we can logit- or probit-transform this value so that the mean can be modeled on the real line:\n",
      "\n",
      "$$E(x_i) = \\mu_j, \\, j={pre, post}$$\n",
      "$$\\text{logit}(\\mu_j) = \\theta_j$$\n",
      "\n",
      "The simplest model for the mean $\\theta$ is that it is a single, unknown value throughout the interval, in which case we assign some diffuse prior distribution to model our uncertainty regarding its true value:\n",
      "\n",
      "$$\\theta_j \\sim N(0, 1e4)$$\n",
      "\n",
      "More realistically, we may opt to model the expected value as varying randomly and/or as a function of one or more covariates:\n",
      "\n",
      "$$\\text{logit}(\\mu_j) = \\theta_j + X\\beta + \\epsilon_j$$\n",
      "$$\\epsilon_j \\sim N(0, \\tau)$$\n",
      "\n",
      "Covariates that may lead to variation on compliance might include country of origin (flag) or ship type.\n",
      "\n",
      "The change point can be modeled as the month, week or day that separates the first and second intervals. If there is no prior information regarding the location of the change point, this is most easily modeled as a discrete uniform random variable:\n",
      "\n",
      "$$s \\sim \\text{DiscreteUniform}(t_0, t_n)$$\n",
      "\n",
      "where $t_0$ and $t_n$ are the first and last times (day, week, month) in the dataset. Hence the $pre$ interval is $[t_0, s)$ and the $post$ interval is $[s, t_n]$.\n",
      "\n",
      "A change-point model will be implemented across all SMA and ship types, in order to estimate the response by the entire regulated community. In addition, it may be worthwhile executing the model on prespecified subgroups of interest. These will likely include an analysis of cargo ships only, which make up the majority of the traffic in some SMAs and are among the fastest ships, as well as passengers vessels, which are also fast. These analyses can be replicated both across and within SMAs.\n"
     ]
    },
    {
     "cell_type": "code",
     "collapsed": false,
     "input": [
      "import pandas as pd\n",
      "import numpy as np\n",
      "import time, datetime\n",
      "from matplotlib import dates\n",
      "\n",
      "pd.set_option(\"display.max_columns\", 25) \n",
      "pd.set_option(\"display.max_colwidth\", 100)"
     ],
     "language": "python",
     "metadata": {},
     "outputs": [],
     "prompt_number": 1
    },
    {
     "cell_type": "code",
     "collapsed": false,
     "input": [
      "dataset = pd.read_csv(\"data/processed_data.csv\", index_col=0, parse_dates=[-2,-1])\n",
      "dataset.index.is_unique"
     ],
     "language": "python",
     "metadata": {},
     "outputs": [
      {
       "metadata": {},
       "output_type": "pyout",
       "prompt_number": 2,
       "text": [
        "True"
       ]
      }
     ],
     "prompt_number": 2
    },
    {
     "cell_type": "markdown",
     "metadata": {},
     "source": [
      "Define SMA seasons by year"
     ]
    },
    {
     "cell_type": "code",
     "collapsed": false,
     "input": [
      "date = datetime.date\n",
      "sma_dates = {'NC_GA': [(date(y,11,1), date(y+1,4,30)) for y in range(2008,2012)],\n",
      "            'NOR': [(date(y,11,1), date(y+1,4,30)) for y in range(2008,2012)],\n",
      "            'SE': [(date(y,11,15), date(y+1,4,15)) for y in range(2008,2012)],\n",
      "            'MOR': [(date(y,11,1), date(y+1,4,30)) for y in range(2008,2012)],\n",
      "            'PHI': [(date(y,11,1), date(y+1,4,30)) for y in range(2008,2012)],\n",
      "            'NY': [(date(y,11,1), date(y+1,4,30)) for y in range(2008,2012)],\n",
      "            'CCB': [(date(y,1,1), date(y+1,5,15)) for y in range(2009,2012)],\n",
      "            'ORP': [(date(y,3,1), date(y+1,4,15)) for y in range(2009,2012)],\n",
      "            'BI': [(date(y,11,1), date(y+1,4,30)) for y in range(2008,2012)],\n",
      "            'GSC': [(date(y,4,1), date(y+1,7,31)) for y in range(2009,2012)]\n",
      "            }"
     ],
     "language": "python",
     "metadata": {},
     "outputs": [],
     "prompt_number": 3
    },
    {
     "cell_type": "code",
     "collapsed": false,
     "input": [
      "def find_season(rec):\n",
      "    sma = rec['sma']\n",
      "    stime = rec['st_time']\n",
      "    d = stime.date()\n",
      "    seasons = sma_dates[sma]\n",
      "    for i,daterange in enumerate(seasons):\n",
      "        if daterange[0] <= d < daterange[1]:\n",
      "            return i\n",
      "    return NaN"
     ],
     "language": "python",
     "metadata": {},
     "outputs": [],
     "prompt_number": 4
    },
    {
     "cell_type": "code",
     "collapsed": false,
     "input": [
      "dataset['season'] = dataset.apply(find_season, axis=1)"
     ],
     "language": "python",
     "metadata": {},
     "outputs": [],
     "prompt_number": 5
    },
    {
     "cell_type": "code",
     "collapsed": false,
     "input": [
      "valid_types = [\n",
      " 'Cargo',\n",
      " 'Tanker',\n",
      " 'Passenger',\n",
      " 'All Tow',\n",
      " 'Fishing',\n",
      " 'HSC',\n",
      " 'Other',\n",
      " 'Pleasure',\n",
      " 'Sailing',\n",
      " 'WIG']"
     ],
     "language": "python",
     "metadata": {},
     "outputs": [],
     "prompt_number": 6
    },
    {
     "cell_type": "code",
     "collapsed": false,
     "input": [
      "# Choose the most prevalent ship types\n",
      "stypes = 4\n",
      "ships = valid_types[:stypes]\n",
      "ships.sort()"
     ],
     "language": "python",
     "metadata": {},
     "outputs": [],
     "prompt_number": 7
    },
    {
     "cell_type": "code",
     "collapsed": false,
     "input": [
      "ships"
     ],
     "language": "python",
     "metadata": {},
     "outputs": [
      {
       "metadata": {},
       "output_type": "pyout",
       "prompt_number": 8,
       "text": [
        "['All Tow', 'Cargo', 'Passenger', 'Tanker']"
       ]
      }
     ],
     "prompt_number": 8
    },
    {
     "cell_type": "code",
     "collapsed": false,
     "input": [
      "dataset.sma.unique()"
     ],
     "language": "python",
     "metadata": {},
     "outputs": [
      {
       "metadata": {},
       "output_type": "pyout",
       "prompt_number": 9,
       "text": [
        "array(['NC_GA', 'NOR', 'SE', 'MOR', 'PHI', 'NY', 'CCB', 'ORP', 'BI', 'GSC'], dtype=object)"
       ]
      }
     ],
     "prompt_number": 9
    },
    {
     "cell_type": "markdown",
     "metadata": {},
     "source": [
      "Here is a sample of the distribution of PDGT10 for a given ship type within an SMA during active seasons."
     ]
    },
    {
     "cell_type": "code",
     "collapsed": false,
     "input": [
      "sma = 'SE'\n",
      "ship = 'Tanker'\n",
      "sample_ship = dataset[(dataset.sma==sma) & (dataset.type==ship)]\n",
      "scatter(sample_ship.st_time.tolist(), sample_ship.pdgt10.tolist(), \n",
      "        c=sample_ship.season.tolist(), alpha=0.3)"
     ],
     "language": "python",
     "metadata": {},
     "outputs": [
      {
       "metadata": {},
       "output_type": "pyout",
       "prompt_number": 10,
       "text": [
        "<matplotlib.collections.PathCollection at 0x108c06910>"
       ]
      },
      {
       "metadata": {},
       "output_type": "display_data",
       "png": "[encoded data removed]",
       "text": [
        "<matplotlib.figure.Figure at 0x109f604d0>"
       ]
      }
     ],
     "prompt_number": 10
    },
    {
     "cell_type": "markdown",
     "metadata": {},
     "source": [
      "Plotting these values as a histogram (on the logit scale), we can see that there is a mixture of zeros and non-zero values that follow some distribution."
     ]
    },
    {
     "cell_type": "code",
     "collapsed": false,
     "input": [
      "(sample_ship.pdgt10/100.).apply(lambda p: (p+1e-5)*(p==0) or (p-1e-5)).apply(lambda p: np.log( p/(1 - p))).hist(by=sample_ship.season, \n",
      "                                                                                sharey=True, sharex=True)"
     ],
     "language": "python",
     "metadata": {},
     "outputs": [
      {
       "metadata": {},
       "output_type": "pyout",
       "prompt_number": 11,
       "text": [
        "array([[<matplotlib.axes.AxesSubplot object at 0x108bdfcd0>,\n",
        "        <matplotlib.axes.AxesSubplot object at 0x10a3ceb50>],\n",
        "       [<matplotlib.axes.AxesSubplot object at 0x10a978e90>,\n",
        "        <matplotlib.axes.AxesSubplot object at 0x1095ed590>]], dtype=object)"
       ]
      },
      {
       "metadata": {},
       "output_type": "display_data",
       "text": [
        "<matplotlib.figure.Figure at 0x109f65910>"
       ]
      },
      {
       "metadata": {},
       "output_type": "display_data",
       "png": "[encoded data removed]",
       "text": [
        "<matplotlib.figure.Figure at 0x108c1bd90>"
       ]
      }
     ],
     "prompt_number": 11
    },
    {
     "cell_type": "markdown",
     "metadata": {},
     "source": [
      "This is an implementation of the model described above. "
     ]
    },
    {
     "cell_type": "code",
     "collapsed": false,
     "input": [
      "from pymc import *\n",
      "\n",
      "def generate_model(sma, ship):\n",
      "        \n",
      "    # Index out valid ships in SMA\n",
      "    sma_data = dataset[(dataset.sma==sma) & (dataset.type==ship) & (dataset.active.astype(bool))]\n",
      "    \n",
      "    mmsi = sma_data.mmsi.unique()\n",
      "    \n",
      "    # Get indices for random effects\n",
      "    random_effect = np.array([np.where(mmsi==i)[0][0] for i in sma_data.mmsi])\n",
      "                \n",
      "    # Hyperpriors\n",
      "    alpha = Uniform('alpha', lower=0.5, upper=10)\n",
      "    beta = Uniform('nu', lower=0, upper=100, value=10)\n",
      "    sig_0 = Uniform('sig_0', lower=0, upper=100, value=1)\n",
      "    tau_0 = sig_0 ** -2\n",
      "    \n",
      "    N_dp = 100\n",
      "    epsilon = Normal('epsilon', mu=0, tau=tau_0, size=N_dp)\n",
      "    \n",
      "    # Study random effects\n",
      "    v = Beta('v', alpha=1, beta=alpha, size=N_dp)\n",
      "    @deterministic\n",
      "    def p(v=v):\n",
      "        \"\"\" Calculate Dirichlet probabilities \"\"\"\n",
      "    \n",
      "        # Probabilities from betas\n",
      "        value = [u*np.prod(1-v[:i]) for i,u in enumerate(v)]\n",
      "        # Enforce sum to unity constraint\n",
      "        value[-1] = 1-np.sum(value[:-1])\n",
      "    \n",
      "        return value\n",
      "    \n",
      "    z = Categorical('z', p, size=len(mmsi))\n",
      "    a = Lambda('a', lambda z=z, epsilon=epsilon: epsilon[z])\n",
      "    \n",
      "    #epsilon = Normal('epsilon', 0, tau=tau, size=len(mmsi))\n",
      "    \n",
      "    # Season after which mean changes\n",
      "    switchpoint = DiscreteUniform('switchpoint', lower=0, upper=sma_data.season.max(), value=1)\n",
      "    \n",
      "    # Means\n",
      "    mu_early = Normal('mu_early', 0, 1e-6, value=0)\n",
      "    mu_late = Normal('mu_late', 0, 1e-6, value=0)\n",
      "    \n",
      "    # Means on inverse-logit (nominal) scale\n",
      "    mu_early_pdgt10 = Lambda('mu_early_pdgt10', lambda mu=mu_early: 100.*invlogit(mu))\n",
      "    mu_late_pdgt10 = Lambda('mu_late_pdgt10', lambda mu=mu_late: 100.*invlogit(mu))\n",
      "    \n",
      "    # Tails of the distribtion on logit scale\n",
      "    upper_tails = Uniform('upper_tails', np.log(1e-5), np.log(0.01), size=(sma_data.pdgt10==100).sum())\n",
      "    lower_tails = Uniform('lower_tails', np.log(1e-5), np.log(0.01), size=(sma_data.pdgt10==0).sum())\n",
      "\n",
      "    \n",
      "    @deterministic\n",
      "    def mu(s=switchpoint, e=mu_early, l=mu_late):\n",
      "        ''' Create vector of means, according to season '''\n",
      "        index = (np.array(sma_data.season)>s).astype(int)\n",
      "        return np.array([e, l])[index]\n",
      "    \n",
      "    # Add mmsi random effects to mean\n",
      "    theta = Lambda('theta', lambda m=mu, a=a: m + a[random_effect])\n",
      "    \n",
      "    @observed\n",
      "    def pdgt10(value=sma_data.pdgt10, theta=theta, beta=beta):\n",
      "        # PDGT10 values between 0 and 100\n",
      "        index = (0<sma_data.pdgt10) & (sma_data.pdgt10<100)\n",
      "        return cauchy_like(logit(np.array(sma_data.pdgt10)[index]/100.), theta[index], beta)\n",
      "    \n",
      "    @potential\n",
      "    def pdgt10_lo(theta=theta, beta=beta, e=lower_tails):\n",
      "        # PDGT10 zero values\n",
      "        index = sma_data.pdgt10==0\n",
      "        x = logit((np.array(sma_data.pdgt10)[index] + np.exp(e))/100.)\n",
      "        return cauchy_like(x, theta[index], beta)\n",
      "    \n",
      "    @potential\n",
      "    def pdgt10_hi(theta=theta, beta=beta, e=upper_tails):\n",
      "        # PDGT10 100 values\n",
      "        index = sma_data.pdgt10==100\n",
      "        x = logit((np.array(sma_data.pdgt10)[index] - np.exp(e))/100.)\n",
      "        return cauchy_like(x, theta[index], beta)\n",
      "    \n",
      "    return locals()\n",
      "\n"
     ],
     "language": "python",
     "metadata": {},
     "outputs": [],
     "prompt_number": 38
    },
    {
     "cell_type": "markdown",
     "metadata": {},
     "source": [
      "We can run the model for a particular combination of SMA and ship type."
     ]
    },
    {
     "cell_type": "code",
     "collapsed": false,
     "input": [
      "M = MCMC(generate_model('SE', 'Tanker'))"
     ],
     "language": "python",
     "metadata": {},
     "outputs": [],
     "prompt_number": 39
    },
    {
     "cell_type": "code",
     "collapsed": false,
     "input": [
      "M.sample(20000, 10000)"
     ],
     "language": "python",
     "metadata": {},
     "outputs": [
      {
       "output_type": "stream",
       "stream": "stdout",
       "text": [
        "\r",
        " [                  0%                  ] 112 of 20000 complete in 0.5 sec"
       ]
      },
      {
       "output_type": "stream",
       "stream": "stdout",
       "text": [
        "\r",
        " [                  1%                  ] 253 of 20000 complete in 1.0 sec"
       ]
      },
      {
       "output_type": "stream",
       "stream": "stdout",
       "text": [
        "\r",
        " [                  1%                  ] 398 of 20000 complete in 1.5 sec"
       ]
      },
      {
       "output_type": "stream",
       "stream": "stdout",
       "text": [
        "\r",
        " [-                 2%                  ] 555 of 20000 complete in 2.0 sec"
       ]
      },
      {
       "output_type": "stream",
       "stream": "stdout",
       "text": [
        "\r",
        " [-                 3%                  ] 709 of 20000 complete in 2.5 sec"
       ]
      },
      {
       "output_type": "stream",
       "stream": "stdout",
       "text": [
        "\r",
        " [-                 4%                  ] 865 of 20000 complete in 3.0 sec"
       ]
      },
      {
       "output_type": "stream",
       "stream": "stdout",
       "text": [
        "\r",
        " [-                 5%                  ] 1014 of 20000 complete in 3.5 sec"
       ]
      },
      {
       "output_type": "stream",
       "stream": "stdout",
       "text": [
        "\r",
        " [--                5%                  ] 1133 of 20000 complete in 4.0 sec"
       ]
      },
      {
       "output_type": "stream",
       "stream": "stdout",
       "text": [
        "\r",
        " [--                6%                  ] 1276 of 20000 complete in 4.5 sec"
       ]
      },
      {
       "output_type": "stream",
       "stream": "stdout",
       "text": [
        "\r",
        " [--                7%                  ] 1410 of 20000 complete in 5.0 sec"
       ]
      },
      {
       "output_type": "stream",
       "stream": "stdout",
       "text": [
        "\r",
        " [--                7%                  ] 1543 of 20000 complete in 5.5 sec"
       ]
      },
      {
       "output_type": "stream",
       "stream": "stdout",
       "text": [
        "\r",
        " [---               8%                  ] 1658 of 20000 complete in 6.0 sec"
       ]
      },
      {
       "output_type": "stream",
       "stream": "stdout",
       "text": [
        "\r",
        " [---               8%                  ] 1778 of 20000 complete in 6.5 sec"
       ]
      },
      {
       "output_type": "stream",
       "stream": "stdout",
       "text": [
        "\r",
        " [---               9%                  ] 1915 of 20000 complete in 7.0 sec"
       ]
      },
      {
       "output_type": "stream",
       "stream": "stdout",
       "text": [
        "\r",
        " [---              10%                  ] 2032 of 20000 complete in 7.5 sec"
       ]
      },
      {
       "output_type": "stream",
       "stream": "stdout",
       "text": [
        "\r",
        " [----             10%                  ] 2143 of 20000 complete in 8.0 sec"
       ]
      },
      {
       "output_type": "stream",
       "stream": "stdout",
       "text": [
        "\r",
        " [----             11%                  ] 2259 of 20000 complete in 8.5 sec"
       ]
      },
      {
       "output_type": "stream",
       "stream": "stdout",
       "text": [
        "\r",
        " [----             11%                  ] 2371 of 20000 complete in 9.0 sec"
       ]
      },
      {
       "output_type": "stream",
       "stream": "stdout",
       "text": [
        "\r",
        " [----             12%                  ] 2492 of 20000 complete in 9.5 sec"
       ]
      },
      {
       "output_type": "stream",
       "stream": "stdout",
       "text": [
        "\r",
        " [----             13%                  ] 2613 of 20000 complete in 10.0 sec"
       ]
      },
      {
       "output_type": "stream",
       "stream": "stdout",
       "text": [
        "\r",
        " [-----            13%                  ] 2702 of 20000 complete in 10.6 sec"
       ]
      },
      {
       "output_type": "stream",
       "stream": "stdout",
       "text": [
        "\r",
        " [-----            14%                  ] 2820 of 20000 complete in 11.1 sec"
       ]
      },
      {
       "output_type": "stream",
       "stream": "stdout",
       "text": [
        "\r",
        " [-----            14%                  ] 2941 of 20000 complete in 11.6 sec"
       ]
      },
      {
       "output_type": "stream",
       "stream": "stdout",
       "text": [
        "\r",
        " [-----            15%                  ] 3060 of 20000 complete in 12.1 sec"
       ]
      },
      {
       "output_type": "stream",
       "stream": "stdout",
       "text": [
        "\r",
        " [------           15%                  ] 3176 of 20000 complete in 12.6 sec"
       ]
      },
      {
       "output_type": "stream",
       "stream": "stdout",
       "text": [
        "\r",
        " [------           16%                  ] 3290 of 20000 complete in 13.1 sec"
       ]
      },
      {
       "output_type": "stream",
       "stream": "stdout",
       "text": [
        "\r",
        " [------           16%                  ] 3392 of 20000 complete in 13.6 sec"
       ]
      },
      {
       "output_type": "stream",
       "stream": "stdout",
       "text": [
        "\r",
        " [------           17%                  ] 3511 of 20000 complete in 14.1 sec"
       ]
      },
      {
       "output_type": "stream",
       "stream": "stdout",
       "text": [
        "\r",
        " [------           18%                  ] 3630 of 20000 complete in 14.6 sec"
       ]
      },
      {
       "output_type": "stream",
       "stream": "stdout",
       "text": [
        "\r",
        " [-------          18%                  ] 3744 of 20000 complete in 15.1 sec"
       ]
      },
      {
       "output_type": "stream",
       "stream": "stdout",
       "text": [
        "\r",
        " [-------          19%                  ] 3834 of 20000 complete in 15.6 sec"
       ]
      },
      {
       "output_type": "stream",
       "stream": "stdout",
       "text": [
        "\r",
        " [-------          19%                  ] 3937 of 20000 complete in 16.1 sec"
       ]
      },
      {
       "output_type": "stream",
       "stream": "stdout",
       "text": [
        "\r",
        " [-------          20%                  ] 4055 of 20000 complete in 16.6 sec"
       ]
      },
      {
       "output_type": "stream",
       "stream": "stdout",
       "text": [
        "\r",
        " [-------          20%                  ] 4175 of 20000 complete in 17.1 sec"
       ]
      },
      {
       "output_type": "stream",
       "stream": "stdout",
       "text": [
        "\r",
        " [--------         21%                  ] 4296 of 20000 complete in 17.6 sec"
       ]
      },
      {
       "output_type": "stream",
       "stream": "stdout",
       "text": [
        "\r",
        " [--------         22%                  ] 4416 of 20000 complete in 18.1 sec"
       ]
      },
      {
       "output_type": "stream",
       "stream": "stdout",
       "text": [
        "\r",
        " [--------         22%                  ] 4527 of 20000 complete in 18.6 sec"
       ]
      },
      {
       "output_type": "stream",
       "stream": "stdout",
       "text": [
        "\r",
        " [--------         23%                  ] 4643 of 20000 complete in 19.1 sec"
       ]
      },
      {
       "output_type": "stream",
       "stream": "stdout",
       "text": [
        "\r",
        " [---------        23%                  ] 4763 of 20000 complete in 19.6 sec"
       ]
      },
      {
       "output_type": "stream",
       "stream": "stdout",
       "text": [
        "\r",
        " [---------        24%                  ] 4878 of 20000 complete in 20.1 sec"
       ]
      },
      {
       "output_type": "stream",
       "stream": "stdout",
       "text": [
        "\r",
        " [---------        25%                  ] 5000 of 20000 complete in 20.6 sec"
       ]
      },
      {
       "output_type": "stream",
       "stream": "stdout",
       "text": [
        "\r",
        " [---------        25%                  ] 5114 of 20000 complete in 21.1 sec"
       ]
      },
      {
       "output_type": "stream",
       "stream": "stdout",
       "text": [
        "\r",
        " [---------        26%                  ] 5229 of 20000 complete in 21.6 sec"
       ]
      },
      {
       "output_type": "stream",
       "stream": "stdout",
       "text": [
        "\r",
        " [----------       26%                  ] 5352 of 20000 complete in 22.1 sec"
       ]
      },
      {
       "output_type": "stream",
       "stream": "stdout",
       "text": [
        "\r",
        " [----------       27%                  ] 5471 of 20000 complete in 22.6 sec"
       ]
      },
      {
       "output_type": "stream",
       "stream": "stdout",
       "text": [
        "\r",
        " [----------       27%                  ] 5578 of 20000 complete in 23.1 sec"
       ]
      },
      {
       "output_type": "stream",
       "stream": "stdout",
       "text": [
        "\r",
        " [----------       28%                  ] 5697 of 20000 complete in 23.6 sec"
       ]
      },
      {
       "output_type": "stream",
       "stream": "stdout",
       "text": [
        "\r",
        " [-----------      29%                  ] 5810 of 20000 complete in 24.1 sec"
       ]
      },
      {
       "output_type": "stream",
       "stream": "stdout",
       "text": [
        "\r",
        " [-----------      29%                  ] 5924 of 20000 complete in 24.6 sec"
       ]
      },
      {
       "output_type": "stream",
       "stream": "stdout",
       "text": [
        "\r",
        " [-----------      30%                  ] 6030 of 20000 complete in 25.1 sec"
       ]
      },
      {
       "output_type": "stream",
       "stream": "stdout",
       "text": [
        "\r",
        " [-----------      30%                  ] 6121 of 20000 complete in 25.6 sec"
       ]
      },
      {
       "output_type": "stream",
       "stream": "stdout",
       "text": [
        "\r",
        " [-----------      31%                  ] 6227 of 20000 complete in 26.1 sec"
       ]
      },
      {
       "output_type": "stream",
       "stream": "stdout",
       "text": [
        "\r",
        " [------------     31%                  ] 6325 of 20000 complete in 26.6 sec"
       ]
      },
      {
       "output_type": "stream",
       "stream": "stdout",
       "text": [
        "\r",
        " [------------     32%                  ] 6435 of 20000 complete in 27.1 sec"
       ]
      },
      {
       "output_type": "stream",
       "stream": "stdout",
       "text": [
        "\r",
        " [------------     32%                  ] 6548 of 20000 complete in 27.6 sec"
       ]
      },
      {
       "output_type": "stream",
       "stream": "stdout",
       "text": [
        "\r",
        " [------------     33%                  ] 6645 of 20000 complete in 28.1 sec"
       ]
      },
      {
       "output_type": "stream",
       "stream": "stdout",
       "text": [
        "\r",
        " [------------     33%                  ] 6749 of 20000 complete in 28.6 sec"
       ]
      },
      {
       "output_type": "stream",
       "stream": "stdout",
       "text": [
        "\r",
        " [-------------    34%                  ] 6846 of 20000 complete in 29.1 sec"
       ]
      },
      {
       "output_type": "stream",
       "stream": "stdout",
       "text": [
        "\r",
        " [-------------    34%                  ] 6935 of 20000 complete in 29.6 sec"
       ]
      },
      {
       "output_type": "stream",
       "stream": "stdout",
       "text": [
        "\r",
        " [-------------    35%                  ] 7006 of 20000 complete in 30.2 sec"
       ]
      },
      {
       "output_type": "stream",
       "stream": "stdout",
       "text": [
        "\r",
        " [-------------    35%                  ] 7076 of 20000 complete in 30.7 sec"
       ]
      },
      {
       "output_type": "stream",
       "stream": "stdout",
       "text": [
        "\r",
        " [-------------    35%                  ] 7150 of 20000 complete in 31.2 sec"
       ]
      },
      {
       "output_type": "stream",
       "stream": "stdout",
       "text": [
        "\r",
        " [-------------    36%                  ] 7220 of 20000 complete in 31.7 sec"
       ]
      },
      {
       "output_type": "stream",
       "stream": "stdout",
       "text": [
        "\r",
        " [-------------    36%                  ] 7295 of 20000 complete in 32.2 sec"
       ]
      },
      {
       "output_type": "stream",
       "stream": "stdout",
       "text": [
        "\r",
        " [--------------   36%                  ] 7374 of 20000 complete in 32.7 sec"
       ]
      },
      {
       "output_type": "stream",
       "stream": "stdout",
       "text": [
        "\r",
        " [--------------   37%                  ] 7447 of 20000 complete in 33.2 sec"
       ]
      },
      {
       "output_type": "stream",
       "stream": "stdout",
       "text": [
        "\r",
        " [--------------   37%                  ] 7530 of 20000 complete in 33.7 sec"
       ]
      },
      {
       "output_type": "stream",
       "stream": "stdout",
       "text": [
        "\r",
        " [--------------   38%                  ] 7605 of 20000 complete in 34.2 sec"
       ]
      },
      {
       "output_type": "stream",
       "stream": "stdout",
       "text": [
        "\r",
        " [--------------   38%                  ] 7694 of 20000 complete in 34.7 sec"
       ]
      },
      {
       "output_type": "stream",
       "stream": "stdout",
       "text": [
        "\r",
        " [--------------   38%                  ] 7769 of 20000 complete in 35.2 sec"
       ]
      },
      {
       "output_type": "stream",
       "stream": "stdout",
       "text": [
        "\r",
        " [--------------   39%                  ] 7845 of 20000 complete in 35.7 sec"
       ]
      },
      {
       "output_type": "stream",
       "stream": "stdout",
       "text": [
        "\r",
        " [---------------  39%                  ] 7915 of 20000 complete in 36.2 sec"
       ]
      },
      {
       "output_type": "stream",
       "stream": "stdout",
       "text": [
        "\r",
        " [---------------  40%                  ] 8002 of 20000 complete in 36.7 sec"
       ]
      },
      {
       "output_type": "stream",
       "stream": "stdout",
       "text": [
        "\r",
        " [---------------  40%                  ] 8097 of 20000 complete in 37.2 sec"
       ]
      },
      {
       "output_type": "stream",
       "stream": "stdout",
       "text": [
        "\r",
        " [---------------  41%                  ] 8205 of 20000 complete in 37.7 sec"
       ]
      },
      {
       "output_type": "stream",
       "stream": "stdout",
       "text": [
        "\r",
        " [---------------  41%                  ] 8305 of 20000 complete in 38.2 sec"
       ]
      },
      {
       "output_type": "stream",
       "stream": "stdout",
       "text": [
        "\r",
        " [---------------  41%                  ] 8384 of 20000 complete in 38.7 sec"
       ]
      },
      {
       "output_type": "stream",
       "stream": "stdout",
       "text": [
        "\r",
        " [---------------- 42%                  ] 8461 of 20000 complete in 39.2 sec"
       ]
      },
      {
       "output_type": "stream",
       "stream": "stdout",
       "text": [
        "\r",
        " [---------------- 42%                  ] 8563 of 20000 complete in 39.7 sec"
       ]
      },
      {
       "output_type": "stream",
       "stream": "stdout",
       "text": [
        "\r",
        " [---------------- 43%                  ] 8677 of 20000 complete in 40.2 sec"
       ]
      },
      {
       "output_type": "stream",
       "stream": "stdout",
       "text": [
        "\r",
        " [---------------- 43%                  ] 8775 of 20000 complete in 40.7 sec"
       ]
      },
      {
       "output_type": "stream",
       "stream": "stdout",
       "text": [
        "\r",
        " [---------------- 44%                  ] 8858 of 20000 complete in 41.2 sec"
       ]
      },
      {
       "output_type": "stream",
       "stream": "stdout",
       "text": [
        "\r",
        " [-----------------44%                  ] 8973 of 20000 complete in 41.7 sec"
       ]
      },
      {
       "output_type": "stream",
       "stream": "stdout",
       "text": [
        "\r",
        " [-----------------45%                  ] 9080 of 20000 complete in 42.2 sec"
       ]
      },
      {
       "output_type": "stream",
       "stream": "stdout",
       "text": [
        "\r",
        " [-----------------45%                  ] 9192 of 20000 complete in 42.7 sec"
       ]
      },
      {
       "output_type": "stream",
       "stream": "stdout",
       "text": [
        "\r",
        " [-----------------46%                  ] 9307 of 20000 complete in 43.2 sec"
       ]
      },
      {
       "output_type": "stream",
       "stream": "stdout",
       "text": [
        "\r",
        " [-----------------47%                  ] 9421 of 20000 complete in 43.7 sec"
       ]
      },
      {
       "output_type": "stream",
       "stream": "stdout",
       "text": [
        "\r",
        " [-----------------47%                  ] 9526 of 20000 complete in 44.2 sec"
       ]
      },
      {
       "output_type": "stream",
       "stream": "stdout",
       "text": [
        "\r",
        " [-----------------48%                  ] 9635 of 20000 complete in 44.7 sec"
       ]
      },
      {
       "output_type": "stream",
       "stream": "stdout",
       "text": [
        "\r",
        " [-----------------48%                  ] 9744 of 20000 complete in 45.2 sec"
       ]
      },
      {
       "output_type": "stream",
       "stream": "stdout",
       "text": [
        "\r",
        " [-----------------49%                  ] 9856 of 20000 complete in 45.7 sec"
       ]
      },
      {
       "output_type": "stream",
       "stream": "stdout",
       "text": [
        "\r",
        " [-----------------49%                  ] 9970 of 20000 complete in 46.2 sec"
       ]
      },
      {
       "output_type": "stream",
       "stream": "stdout",
       "text": [
        "\r",
        " [-----------------50%                  ] 10075 of 20000 complete in 46.7 sec"
       ]
      },
      {
       "output_type": "stream",
       "stream": "stdout",
       "text": [
        "\r",
        " [-----------------50%                  ] 10176 of 20000 complete in 47.2 sec"
       ]
      },
      {
       "output_type": "stream",
       "stream": "stdout",
       "text": [
        "\r",
        " [-----------------51%                  ] 10251 of 20000 complete in 47.7 sec"
       ]
      },
      {
       "output_type": "stream",
       "stream": "stdout",
       "text": [
        "\r",
        " [-----------------51%                  ] 10342 of 20000 complete in 48.2 sec"
       ]
      },
      {
       "output_type": "stream",
       "stream": "stdout",
       "text": [
        "\r",
        " [-----------------52%                  ] 10433 of 20000 complete in 48.7 sec"
       ]
      },
      {
       "output_type": "stream",
       "stream": "stdout",
       "text": [
        "\r",
        " [-----------------52%                  ] 10532 of 20000 complete in 49.2 sec"
       ]
      },
      {
       "output_type": "stream",
       "stream": "stdout",
       "text": [
        "\r",
        " [-----------------53%                  ] 10639 of 20000 complete in 49.8 sec"
       ]
      },
      {
       "output_type": "stream",
       "stream": "stdout",
       "text": [
        "\r",
        " [-----------------53%                  ] 10747 of 20000 complete in 50.3 sec"
       ]
      },
      {
       "output_type": "stream",
       "stream": "stdout",
       "text": [
        "\r",
        " [-----------------54%                  ] 10852 of 20000 complete in 50.8 sec"
       ]
      },
      {
       "output_type": "stream",
       "stream": "stdout",
       "text": [
        "\r",
        " [-----------------54%                  ] 10951 of 20000 complete in 51.3 sec"
       ]
      },
      {
       "output_type": "stream",
       "stream": "stdout",
       "text": [
        "\r",
        " [-----------------55%                  ] 11050 of 20000 complete in 51.8 sec"
       ]
      },
      {
       "output_type": "stream",
       "stream": "stdout",
       "text": [
        "\r",
        " [-----------------55%-                 ] 11139 of 20000 complete in 52.3 sec"
       ]
      },
      {
       "output_type": "stream",
       "stream": "stdout",
       "text": [
        "\r",
        " [-----------------56%-                 ] 11224 of 20000 complete in 52.8 sec"
       ]
      }
     ],
     "prompt_number": "*"
    },
    {
     "cell_type": "code",
     "collapsed": false,
     "input": [
      "M.sample(20000, 10000)"
     ],
     "language": "python",
     "metadata": {},
     "outputs": [],
     "prompt_number": "*"
    },
    {
     "cell_type": "markdown",
     "metadata": {},
     "source": [
      "Here is a plot of the early and late means."
     ]
    },
    {
     "cell_type": "code",
     "collapsed": false,
     "input": [
      "Matplot.summary_plot([M.mu_early_pdgt10, M.mu_late_pdgt10])"
     ],
     "language": "python",
     "metadata": {},
     "outputs": [],
     "prompt_number": "*"
    },
    {
     "cell_type": "markdown",
     "metadata": {},
     "source": [
      "This plot shows the distribution of the switchpoint."
     ]
    },
    {
     "cell_type": "code",
     "collapsed": false,
     "input": [
      "plt.hist(M.switchpoint.trace()[:])"
     ],
     "language": "python",
     "metadata": {},
     "outputs": [],
     "prompt_number": "*"
    }
   ],
   "metadata": {}
  }
 ]
}